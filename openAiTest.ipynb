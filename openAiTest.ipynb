{
 "cells": [
  {
   "cell_type": "code",
   "execution_count": 1,
   "metadata": {},
   "outputs": [],
   "source": [
    "import Multiple_Choice.openAI_settings as setting\n",
    "import requests"
   ]
  },
  {
   "cell_type": "code",
   "execution_count": 2,
   "metadata": {},
   "outputs": [
    {
     "name": "stdout",
     "output_type": "stream",
     "text": [
      "ChatGPT:  The capital of France is Paris.\n"
     ]
    }
   ],
   "source": [
    "\n",
    "def call_chat_gpt_api(prompt):\n",
    "    # ChatGPT API 엔드포인트 URL\n",
    "    api_url = \"https://api.openai.com/v1/chat/completions\"\n",
    "    \n",
    "    # OpenAI API 토큰, 본인의 API 토큰으로 대체해주세요\n",
    "    api_token = setting.api_key\n",
    "    \n",
    "    # 요청 헤더에 API 토큰 추가\n",
    "    headers = {\n",
    "        \"Content-Type\": \"application/json\",\n",
    "        \"Authorization\": f\"Bearer {api_token}\"\n",
    "    }\n",
    "    \n",
    "    # 요청 데이터 구성\n",
    "    data = {\n",
    "        \"model\": \"gpt-3.5-turbo\",\n",
    "        \"messages\": [{\"role\": \"system\", \"content\": \"You are a helpful assistant.\"},\n",
    "                     {\"role\": \"user\", \"content\": prompt}]\n",
    "    }\n",
    "    \n",
    "    # ChatGPT API 호출\n",
    "    response = requests.post(api_url, headers=headers, json=data)\n",
    "    \n",
    "    # API 응답 처리\n",
    "    if response.status_code == 200:\n",
    "        return response.json()[\"choices\"][0][\"message\"][\"content\"]\n",
    "    else:\n",
    "        print(\"API 호출에 실패했습니다.\")\n",
    "        print(response.json())\n",
    "        return None\n",
    "\n",
    "if __name__ == \"__main__\":\n",
    "    prompt = \"What is the capital of France?\"\n",
    "    response = call_chat_gpt_api(prompt)\n",
    "    \n",
    "    if response:\n",
    "        print(\"ChatGPT: \", response)\n"
   ]
  }
 ],
 "metadata": {
  "kernelspec": {
   "display_name": "client",
   "language": "python",
   "name": "python3"
  },
  "language_info": {
   "codemirror_mode": {
    "name": "ipython",
    "version": 3
   },
   "file_extension": ".py",
   "mimetype": "text/x-python",
   "name": "python",
   "nbconvert_exporter": "python",
   "pygments_lexer": "ipython3",
   "version": "3.9.17"
  },
  "orig_nbformat": 4
 },
 "nbformat": 4,
 "nbformat_minor": 2
}
