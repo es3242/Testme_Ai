{
 "cells": [
  {
   "cell_type": "code",
   "execution_count": 1,
   "metadata": {},
   "outputs": [
    {
     "name": "stdout",
     "output_type": "stream",
     "text": [
      "[{'word': '분석', 'page_index': 6}, {'word': '표시', 'page_index': 6}, {'word': '사이', 'page_index': 30}, {'word': '취급', 'page_index': 30}, {'word': '묵시', 'page_index': 30}, {'word': '원래', 'page_index': 30}, {'word': '항상', 'page_index': 30}, {'word': '과정', 'page_index': 44}, {'word': '초기', 'page_index': 44}, {'word': '유지', 'page_index': 44}, {'word': '구한', 'page_index': 10}, {'word': '먼저', 'page_index': 10}, {'word': '추가', 'page_index': 23}, {'word': '로부터', 'page_index': 23}, {'word': '오른쪽', 'page_index': 23}, {'word': '부호화', 'page_index': 13}, {'word': '분리', 'page_index': 36}, {'word': '대하', 'page_index': 36}, {'word': '대응', 'page_index': 43}, {'word': '목표', 'page_index': 1}, {'word': '이해', 'page_index': 1}, {'word': '기능', 'page_index': 1}, {'word': '가감', 'page_index': 1}, {'word': '구성요소', 'page_index': 1}, {'word': '수업', 'page_index': 1}, {'word': '간의', 'page_index': 1}, {'word': '승제', 'page_index': 1}, {'word': '할당', 'page_index': 34}, {'word': '결정', 'page_index': 34}, {'word': '증가', 'page_index': 34}, {'word': '밀도', 'page_index': 34}, {'word': '문제', 'page_index': 34}, {'word': '정렬', 'page_index': 7}, {'word': '진법', 'page_index': 7}, {'word': '개수', 'page_index': 9}, {'word': '별도', 'page_index': 9}, {'word': '처리', 'page_index': 9}, {'word': '제일', 'page_index': 35}, {'word': '정상', 'page_index': 16}, {'word': '형태', 'page_index': 16}, {'word': '간주', 'page_index': 16}, {'word': '오버플로우', 'page_index': 16}, {'word': '발생', 'page_index': 16}, {'word': '무시', 'page_index': 16}, {'word': '수인', 'page_index': 16}, {'word': '진행', 'page_index': 16}, {'word': '초과', 'page_index': 16}, {'word': '역할', 'page_index': 4}, {'word': '좌우', 'page_index': 4}, {'word': '고려', 'page_index': 38}, {'word': '정규', 'page_index': 38}, {'word': '인지', 'page_index': 38}, {'word': '왼쪽', 'page_index': 38}, {'word': '검사', 'page_index': 38}, {'word': '고정소수점', 'page_index': 27}, {'word': '과학', 'page_index': 27}, {'word': '방식', 'page_index': 27}, {'word': '위치', 'page_index': 27}, {'word': '표기', 'page_index': 27}, {'word': '불가능', 'page_index': 27}, {'word': '확대', 'page_index': 27}, {'word': '중앙', 'page_index': 3}, {'word': '제어', 'page_index': 3}, {'word': '처리장치', 'page_index': 3}, {'word': '여러', 'page_index': 29}, {'word': '배열', 'page_index': 29}, {'word': '통일', 'page_index': 29}, {'word': '단일', 'page_index': 29}, {'word': '빼기', 'page_index': 17}, {'word': '그것', 'page_index': 17}, {'word': '취한', 'page_index': 17}, {'word': '기호', 'page_index': 6}, {'word': '관계', 'page_index': 6}, {'word': '성결대학교', 'page_index': 0}, {'word': '강도', 'page_index': 0}, {'word': '교수', 'page_index': 0}, {'word': '컴퓨터', 'page_index': 0}, {'word': '군사', 'page_index': 0}, {'word': '최정', 'page_index': 0}, {'word': '잠언', 'page_index': 0}, {'word': '졸자', 'page_index': 0}, {'word': '컴퓨터공학', 'page_index': 0}, {'word': '빈궁', 'page_index': 0}, {'word': '최소', 'page_index': 11}, {'word': '최대', 'page_index': 11}, {'word': '선택', 'page_index': 42}, {'word': '필요', 'page_index': 30}, {'word': '불변', 'page_index': 44}, {'word': '목차', 'page_index': 2}, {'word': '출력', 'page_index': 20}, {'word': '길이', 'page_index': 20}, {'word': '개념', 'page_index': 6}, {'word': '해당', 'page_index': 43}, {'word': '부동', 'page_index': 1}, {'word': '존재', 'page_index': 29}, {'word': '요소', 'page_index': 3}, {'word': '수로', 'page_index': 7}, {'word': '연속', 'page_index': 7}, {'word': '매우', 'page_index': 27}, {'word': '점수', 'page_index': 33}, {'word': '부동소수', 'page_index': 33}, {'word': '수고', 'page_index': 45}, {'word': '내게로', 'page_index': 45}, {'word': '너희', 'page_index': 45}, {'word': '마태복음', 'page_index': 45}, {'word': '하리', 'page_index': 45}, {'word': '오라', 'page_index': 45}, {'word': '서로', 'page_index': 20}, {'word': '확장', 'page_index': 13}, {'word': '상태', 'page_index': 4}, {'word': '플래그', 'page_index': 43}, {'word': '위해', 'page_index': 8}, {'word': '마스크', 'page_index': 42}, {'word': '세트', 'page_index': 43}, {'word': '비교', 'page_index': 43}, {'word': '조정', 'page_index': 38}, {'word': '설명', 'page_index': 1}, {'word': '단어', 'page_index': 8}, {'word': '정밀도', 'page_index': 34}, {'word': '다이어그램', 'page_index': 19}, {'word': '블록', 'page_index': 19}, {'word': '구현', 'page_index': 21}, {'word': '계산', 'page_index': 21}, {'word': '부가', 'page_index': 35}, {'word': '이동', 'page_index': 27}, {'word': '십진수', 'page_index': 10}, {'word': '모든', 'page_index': 10}, {'word': '시프트', 'page_index': 23}, {'word': '구조', 'page_index': 5}, {'word': '동작', 'page_index': 5}, {'word': '반전', 'page_index': 15}, {'word': '데이터', 'page_index': 11}, {'word': '소수점', 'page_index': 1}, {'word': '필드', 'page_index': 34}, {'word': '상위', 'page_index': 42}, {'word': '이면', 'page_index': 35}, {'word': '이진수', 'page_index': 15}, {'word': '정규화', 'page_index': 29}, {'word': '이용', 'page_index': 15}, {'word': '가장', 'page_index': 8}, {'word': '아래', 'page_index': 32}, {'word': '제수', 'page_index': 25}, {'word': '우측', 'page_index': 23}, {'word': '기수', 'page_index': 28}, {'word': '승수', 'page_index': 6}, {'word': '방법', 'page_index': 8}, {'word': '피승수', 'page_index': 23}, {'word': '부분', 'page_index': 41}, {'word': '좀더', 'page_index': 0}, {'word': '내부', 'page_index': 5}, {'word': '저장', 'page_index': 30}, {'word': '가지', 'page_index': 33}, {'word': '끼리', 'page_index': 40}, {'word': '좌측', 'page_index': 44}, {'word': '구성', 'page_index': 3}, {'word': '바이어스', 'page_index': 30}, {'word': '양수', 'page_index': 16}, {'word': '기하학', 'page_index': 18}, {'word': '전형', 'page_index': 28}, {'word': '경우', 'page_index': 36}, {'word': '다른', 'page_index': 12}, {'word': '감수', 'page_index': 17}, {'word': '수가', 'page_index': 34}, {'word': '알고리즘', 'page_index': 24}, {'word': '쉬프트', 'page_index': 44}, {'word': '하드웨어', 'page_index': 21}, {'word': '크기', 'page_index': 9}, {'word': '레지스터', 'page_index': 23}, {'word': '나머지', 'page_index': 26}, {'word': '변환', 'page_index': 7}, {'word': '장치', 'page_index': 3}, {'word': '대한', 'page_index': 12}, {'word': '논리', 'page_index': 3}, {'word': '형식', 'page_index': 31}, {'word': '결과', 'page_index': 16}, {'word': '범위', 'page_index': 11}, {'word': '흐름', 'page_index': 22}, {'word': '사용', 'page_index': 24}, {'word': '음수', 'page_index': 8}, {'word': '가수', 'page_index': 38}, {'word': '수행', 'page_index': 36}, {'word': '뺄셈', 'page_index': 39}, {'word': '정수', 'page_index': 18}, {'word': '수의', 'page_index': 11}, {'word': '덧셈', 'page_index': 39}, {'word': '산술', 'page_index': 2}, {'word': '지수', 'page_index': 35}, {'word': '나눗셈', 'page_index': 25}, {'word': '곱셈', 'page_index': 40}, {'word': '진수', 'page_index': 6}, {'word': '보수', 'page_index': 15}, {'word': '부호', 'page_index': 9}, {'word': '부동소수점', 'page_index': 37}, {'word': '연산', 'page_index': 42}, {'word': '비트', 'page_index': 13}, {'word': '표현', 'page_index': 27}]\n"
     ]
    }
   ],
   "source": [
    "from Blank_Fill.pdftotext_pdfminer import extract_text_pages \n",
    "from Multiple_Choice.tfIdf import tf_idf2,get_highest_tfidf_pages\n",
    "\n",
    "Text_based_PDF = extract_text_pages('./Blank_Fill/test.pdf')\n",
    "df = tf_idf2(Text_based_PDF)\n",
    "print(get_highest_tfidf_pages(df))"
   ]
  },
  {
   "cell_type": "code",
   "execution_count": 3,
   "metadata": {},
   "outputs": [
    {
     "data": {
      "text/plain": [
       "[{'word': '분석', 'page_index': 6}]"
      ]
     },
     "execution_count": 3,
     "metadata": {},
     "output_type": "execute_result"
    }
   ],
   "source": [
    "dnf = get_highest_tfidf_pages(df)\n",
    "dnf[:1]"
   ]
  }
 ],
 "metadata": {
  "kernelspec": {
   "display_name": "newtestme",
   "language": "python",
   "name": "python3"
  },
  "language_info": {
   "codemirror_mode": {
    "name": "ipython",
    "version": 3
   },
   "file_extension": ".py",
   "mimetype": "text/x-python",
   "name": "python",
   "nbconvert_exporter": "python",
   "pygments_lexer": "ipython3",
   "version": "3.9.17"
  },
  "orig_nbformat": 4
 },
 "nbformat": 4,
 "nbformat_minor": 2
}
